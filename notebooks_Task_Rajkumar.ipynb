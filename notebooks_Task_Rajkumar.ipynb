{
  "metadata": {
    "language_info": {
      "name": ""
    },
    "kernelspec": {
      "name": "python",
      "display_name": "Python (Pyodide)",
      "language": "python"
    }
  },
  "nbformat_minor": 4,
  "nbformat": 4,
  "cells": [
    {
      "cell_type": "code",
      "source": "Raj_first_dictionary = {}",
      "metadata": {
        "trusted": true
      },
      "execution_count": null,
      "outputs": []
    },
    {
      "cell_type": "code",
      "source": "Country_list=[\"India\",\"Japan\",\"France\"]",
      "metadata": {
        "trusted": true
      },
      "execution_count": null,
      "outputs": []
    },
    {
      "cell_type": "code",
      "source": "Capital_list=['Delhi','Tokyo','Paris']",
      "metadata": {
        "trusted": true
      },
      "execution_count": null,
      "outputs": []
    },
    {
      "cell_type": "code",
      "source": "Currency_tuple=['INR','JPY','EUR']",
      "metadata": {
        "trusted": true
      },
      "execution_count": null,
      "outputs": []
    },
    {
      "cell_type": "code",
      "source": "Length_set=(5,5,5)",
      "metadata": {
        "trusted": true
      },
      "execution_count": null,
      "outputs": []
    },
    {
      "cell_type": "code",
      "source": "Raj_first_dictionary={Country_list:[\"India\",\"Japan\",\"France\"],Capital_list : ['Delhi','Tokyo','Paris'],Currency_tuple : ['INR','JPY','EUR'],Length_set ; (5,5,5)}",
      "metadata": {},
      "execution_count": null,
      "outputs": []
    }
  ]
}